{
 "cells": [
  {
   "cell_type": "code",
   "execution_count": 2,
   "id": "173484f2-ca7d-4b49-901f-c8f00590ca21",
   "metadata": {},
   "outputs": [
    {
     "name": "stdout",
     "output_type": "stream",
     "text": [
      "The number of unique userIds in 'ratings.csv' is: 610\n"
     ]
    }
   ],
   "source": [
    "import pandas as pd\n",
    "\n",
    "# Loading the CSV file into a DataFrame\n",
    "ratings_df = pd.read_csv('ratings.csv')\n",
    "\n",
    "# Finding the number of unique userIds\n",
    "unique_users_count = ratings_df['userId'].nunique()\n",
    "\n",
    "print(f\"The number of unique userIds in 'ratings.csv' is: {unique_users_count}\")"
   ]
  },
  {
   "cell_type": "code",
   "execution_count": 10,
   "id": "142c6d2a-5bb2-44f2-9dff-4a142f92be25",
   "metadata": {},
   "outputs": [
    {
     "name": "stdout",
     "output_type": "stream",
     "text": [
      "Movie with the maximum number of user ratings:\n",
      "Title: Forrest Gump (1994)\n",
      "Number of Ratings: 329\n"
     ]
    }
   ],
   "source": [
    "import pandas as pd\n",
    "\n",
    "# Loading the CSV files into DataFrames\n",
    "ratings_df = pd.read_csv('ratings.csv')\n",
    "movies_df = pd.read_csv('movies.csv')\n",
    "\n",
    "# Counting the number of ratings per movie\n",
    "ratings_count = ratings_df['movieId'].value_counts().reset_index()\n",
    "ratings_count.columns = ['movieId', 'ratings_count']\n",
    "\n",
    "# Merge with the movies DataFrame to get movie titles\n",
    "merged_df = pd.merge(ratings_count, movies_df, on='movieId')\n",
    "\n",
    "# Finding the movie with the maximum number of ratings\n",
    "max_ratings_movie = merged_df.loc[merged_df['ratings_count'].idxmax()]\n",
    "\n",
    "print(f\"Movie with the maximum number of user ratings:\\nTitle: {max_ratings_movie['title']}\\nNumber of Ratings: {max_ratings_movie['ratings_count']}\")"
   ]
  },
  {
   "cell_type": "code",
   "execution_count": 12,
   "id": "24c119a6-3576-4a7a-be6f-c8a927c4e4f6",
   "metadata": {},
   "outputs": [
    {
     "name": "stdout",
     "output_type": "stream",
     "text": [
      "Tags submitted by users for 'Matrix, The (1999)': ['martial arts' 'sci-fi' 'alternate universe' 'philosophy'\n",
      " 'post apocalyptic']\n"
     ]
    }
   ],
   "source": [
    "import pandas as pd\n",
    "\n",
    "# Loading the CSV file into a DataFrame\n",
    "tags_df = pd.read_csv('tags.csv')\n",
    "\n",
    "# Filter tags for the movie \"Matrix, The (1999)\" based on the movieId (for example, let's assume movieId is 2571)\n",
    "movie_id = 2571\n",
    "matrix_tags = tags_df[tags_df['movieId'] == movie_id]['tag']\n",
    "\n",
    "# Display unique tags submitted by users\n",
    "unique_tags = matrix_tags.unique()\n",
    "\n",
    "print(f\"Tags submitted by users for 'Matrix, The (1999)': {unique_tags}\")\n"
   ]
  },
  {
   "cell_type": "code",
   "execution_count": 14,
   "id": "9a91563b-d08f-4d1d-b16a-4a299c3a0225",
   "metadata": {},
   "outputs": [
    {
     "name": "stdout",
     "output_type": "stream",
     "text": [
      "The average user rating for 'Terminator 2: Judgment Day (1991)' is: 3.97\n"
     ]
    }
   ],
   "source": [
    "import pandas as pd\n",
    "\n",
    "# Loading the CSV files into DataFrames\n",
    "ratings_df = pd.read_csv('ratings.csv')\n",
    "movies_df = pd.read_csv('movies.csv')\n",
    "\n",
    "# Filter to get the movieId for \"Terminator 2: Judgment Day (1991)\"\n",
    "movie_id = movies_df.loc[movies_df['title'] == 'Terminator 2: Judgment Day (1991)', 'movieId'].values[0]\n",
    "\n",
    "# Filter ratings to include only the ratings for the movieId\n",
    "movie_ratings = ratings_df[ratings_df['movieId'] == movie_id]\n",
    "\n",
    "# Calculating the average rating\n",
    "average_rating = movie_ratings['rating'].mean()\n",
    "\n",
    "print(f\"The average user rating for 'Terminator 2: Judgment Day (1991)' is: {average_rating:.2f}\")\n"
   ]
  },
  {
   "cell_type": "code",
   "execution_count": 16,
   "id": "7be58355-25a7-4625-afe5-055540dab65a",
   "metadata": {},
   "outputs": [
    {
     "name": "stdout",
     "output_type": "stream",
     "text": [
      "      movieId                             title  \\\n",
      "0           1                  Toy Story (1995)   \n",
      "1           2                    Jumanji (1995)   \n",
      "2           3           Grumpier Old Men (1995)   \n",
      "5           6                       Heat (1995)   \n",
      "6           7                    Sabrina (1995)   \n",
      "...       ...                               ...   \n",
      "8287   106782   Wolf of Wall Street, The (2013)   \n",
      "8354   109374  Grand Budapest Hotel, The (2014)   \n",
      "8358   109487               Interstellar (2014)   \n",
      "8457   112852    Guardians of the Galaxy (2014)   \n",
      "8673   122904                   Deadpool (2016)   \n",
      "\n",
      "                                           genres  count_ratings  mean_ratings  \n",
      "0     Adventure|Animation|Children|Comedy|Fantasy            215      3.920930  \n",
      "1                      Adventure|Children|Fantasy            110      3.431818  \n",
      "2                                  Comedy|Romance             52      3.259615  \n",
      "5                           Action|Crime|Thriller            102      3.946078  \n",
      "6                                  Comedy|Romance             54      3.185185  \n",
      "...                                           ...            ...           ...  \n",
      "8287                           Comedy|Crime|Drama             54      3.916667  \n",
      "8354                                 Comedy|Drama             52      3.778846  \n",
      "8358                                  Sci-Fi|IMAX             73      3.993151  \n",
      "8457                      Action|Adventure|Sci-Fi             59      4.050847  \n",
      "8673               Action|Adventure|Comedy|Sci-Fi             54      3.833333  \n",
      "\n",
      "[436 rows x 5 columns]\n",
      "     movieId                             title  mean_ratings  count_ratings\n",
      "277      318  Shawshank Redemption, The (1994)      4.429022            317\n",
      "      movieId                             title  mean_ratings  count_ratings\n",
      "314       356               Forrest Gump (1994)      4.164134            329\n",
      "277       318  Shawshank Redemption, The (1994)      4.429022            317\n",
      "257       296               Pulp Fiction (1994)      4.197068            307\n",
      "510       593  Silence of the Lambs, The (1991)      4.161290            279\n",
      "1938     2571                Matrix, The (1999)      4.192446            278\n",
      "Third most popular movie:\n",
      "movieId                          296\n",
      "title            Pulp Fiction (1994)\n",
      "mean_ratings                4.197068\n",
      "count_ratings                    307\n",
      "Name: 257, dtype: object\n"
     ]
    }
   ],
   "source": [
    "import pandas as pd\n",
    "import requests\n",
    "from bs4 import BeautifulSoup\n",
    "\n",
    "# Loading the CSV files into DataFrames\n",
    "ratings_df = pd.read_csv('ratings.csv')\n",
    "movies_df = pd.read_csv('movies.csv')\n",
    "\n",
    "# 1. Group by 'movieId' and calculate count and mean of ratings\n",
    "grouped_ratings = ratings_df.groupby('movieId').agg(\n",
    "    count_ratings=('rating', 'count'),\n",
    "    mean_ratings=('rating', 'mean')\n",
    ").reset_index()\n",
    "\n",
    "# 2. Performing an inner join with the movies DataFrame\n",
    "merged_df = pd.merge(movies_df, grouped_ratings, on='movieId', how='inner')\n",
    "\n",
    "# 3. Filter movies with more than 50 user ratings\n",
    "filtered_movies = merged_df[merged_df['count_ratings'] > 50]\n",
    "\n",
    "# Displaying the result\n",
    "print(filtered_movies);\n",
    "\n",
    "# Sort the filtered DataFrame by 'mean_ratings' in descending order to find the most popular movie\n",
    "most_popular_movie = filtered_movies.sort_values(by='mean_ratings', ascending=False).head(1)\n",
    "\n",
    "# Display the most popular movie based on average user ratings\n",
    "print(most_popular_movie[['movieId', 'title', 'mean_ratings', 'count_ratings']])\n",
    "\n",
    "#Sort the filtered DataFrame by 'count_ratings' in descending order to find the top 5 most popular movies\n",
    "top_5_popular_movies = filtered_movies.sort_values(by='count_ratings', ascending=False).head(5)\n",
    "\n",
    "# Display the top 5 most popular movies\n",
    "print(top_5_popular_movies[['movieId', 'title', 'mean_ratings', 'count_ratings']])\n",
    "\n",
    "# Find the third most popular movie\n",
    "third_most_popular_movie = top_5_popular_movies.iloc[2]  # Index starts from 0\n",
    "\n",
    "# Display the third most popular movie\n",
    "print(\"Third most popular movie:\")\n",
    "print(third_most_popular_movie[['movieId', 'title', 'mean_ratings', 'count_ratings']])\n",
    "\n",
    "\n"
   ]
  },
  {
   "cell_type": "code",
   "execution_count": null,
   "id": "a7cf667b-16af-4b5a-9f22-b2f13a09326e",
   "metadata": {},
   "outputs": [],
   "source": []
  }
 ],
 "metadata": {
  "kernelspec": {
   "display_name": "Python 3 (ipykernel)",
   "language": "python",
   "name": "python3"
  },
  "language_info": {
   "codemirror_mode": {
    "name": "ipython",
    "version": 3
   },
   "file_extension": ".py",
   "mimetype": "text/x-python",
   "name": "python",
   "nbconvert_exporter": "python",
   "pygments_lexer": "ipython3",
   "version": "3.12.4"
  }
 },
 "nbformat": 4,
 "nbformat_minor": 5
}
